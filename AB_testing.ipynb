{
 "cells": [
  {
   "cell_type": "markdown",
   "id": "41ba191b",
   "metadata": {
    "papermill": {
     "duration": 0.008625,
     "end_time": "2024-03-24T12:35:53.619184",
     "exception": false,
     "start_time": "2024-03-24T12:35:53.610559",
     "status": "completed"
    },
    "tags": []
   },
   "source": [
    "# A/B TESTING ANALYSIS"
   ]
  },
  {
   "cell_type": "markdown",
   "id": "826f0e18",
   "metadata": {
    "papermill": {
     "duration": 0.008508,
     "end_time": "2024-03-24T12:35:53.636186",
     "exception": false,
     "start_time": "2024-03-24T12:35:53.627678",
     "status": "completed"
    },
    "tags": []
   },
   "source": [
    "# Contents:\n",
    "\n",
    "* About the Data Set\n",
    "* Import Libraries \n",
    "* Outlier\n",
    "* A/B Testing"
   ]
  },
  {
   "cell_type": "markdown",
   "id": "c46c0ed4",
   "metadata": {
    "papermill": {
     "duration": 0.007793,
     "end_time": "2024-03-24T12:35:53.652492",
     "exception": false,
     "start_time": "2024-03-24T12:35:53.644699",
     "status": "completed"
    },
    "tags": []
   },
   "source": [
    "# About the Data Set \n",
    "As players progress through the levels of the game, they'll encounter gates that require time-based waiting or in-app purchases. Beyond driving purchases, these gates provide essential breaks, aiming to enhance and prolong the player's overall enjoyment\n",
    "\n",
    "But where should the gates be placed? Initially the first gate was placed at level 30. In this project, we're going to analyze an AB-test where we moved the first gate in Cookie Cats from level 30 to level 40."
   ]
  },
  {
   "cell_type": "markdown",
   "id": "90c354b3",
   "metadata": {
    "papermill": {
     "duration": 0.007665,
     "end_time": "2024-03-24T12:35:53.6682",
     "exception": false,
     "start_time": "2024-03-24T12:35:53.660535",
     "status": "completed"
    },
    "tags": []
   },
   "source": [
    "you can click here to watch the short demo \n",
    "\n",
    "https://www.youtube.com/watch?v=GaP5f0jVTWE"
   ]
  },
  {
   "cell_type": "markdown",
   "id": "b53237a9",
   "metadata": {
    "papermill": {
     "duration": 0.007634,
     "end_time": "2024-03-24T12:35:53.68424",
     "exception": false,
     "start_time": "2024-03-24T12:35:53.676606",
     "status": "completed"
    },
    "tags": []
   },
   "source": [
    "The data is from 90,189 players that installed the game while the AB-test was running. The variables are:\n",
    "\n",
    "* userid - a unique number that identifies each player.\n",
    "* version - whether the player was put in the control group (gate_30 - a gate at level 30) or the test group (gate_40 - a gate at level 40).\n",
    "* sum_gamerounds - the number of game rounds played by the player during the first week after installation\n",
    "* retention_1 - did the player come back and play 1 day after installing?\n",
    "* retention_7 - did the player come back and play 7 days after installing?\n",
    "\n",
    "When a player installed the game, he or she was randomly assigned to either gate_30 or gate_40."
   ]
  },
  {
   "cell_type": "markdown",
   "id": "09650f13",
   "metadata": {
    "papermill": {
     "duration": 0.008318,
     "end_time": "2024-03-24T12:35:54.642585",
     "exception": false,
     "start_time": "2024-03-24T12:35:54.634267",
     "status": "completed"
    },
    "tags": []
   },
   "source": [
    "# Import Libraries"
   ]
  },
  {
   "cell_type": "code",
   "execution_count": 7,
   "id": "e5e0f250",
   "metadata": {},
   "outputs": [
    {
     "name": "stdout",
     "output_type": "stream",
     "text": [
      "Collecting scikit-learn\n",
      "  Downloading scikit_learn-1.6.1-cp39-cp39-win_amd64.whl (11.2 MB)\n",
      "     -------------------------------------- 11.2/11.2 MB 813.6 kB/s eta 0:00:00\n",
      "Collecting joblib>=1.2.0\n",
      "  Downloading joblib-1.5.0-py3-none-any.whl (307 kB)\n",
      "     ------------------------------------ 307.7/307.7 KB 793.2 kB/s eta 0:00:00\n",
      "Requirement already satisfied: numpy>=1.19.5 in c:\\users\\ahmet\\appdata\\local\\programs\\python\\python39\\lib\\site-packages (from scikit-learn) (1.26.4)\n",
      "Requirement already satisfied: scipy>=1.6.0 in c:\\users\\ahmet\\appdata\\local\\programs\\python\\python39\\lib\\site-packages (from scikit-learn) (1.13.1)\n",
      "Collecting threadpoolctl>=3.1.0\n",
      "  Downloading threadpoolctl-3.6.0-py3-none-any.whl (18 kB)\n",
      "Installing collected packages: threadpoolctl, joblib, scikit-learn\n",
      "Successfully installed joblib-1.5.0 scikit-learn-1.6.1 threadpoolctl-3.6.0\n"
     ]
    },
    {
     "name": "stderr",
     "output_type": "stream",
     "text": [
      "WARNING: You are using pip version 22.0.4; however, version 25.1.1 is available.\n",
      "You should consider upgrading via the 'C:\\Users\\Ahmet\\AppData\\Local\\Programs\\Python\\Python39\\python.exe -m pip install --upgrade pip' command.\n"
     ]
    }
   ],
   "source": [
    "!pip install scikit-learn\n",
    "\n"
   ]
  },
  {
   "cell_type": "code",
   "execution_count": 8,
   "id": "a358afa4",
   "metadata": {
    "execution": {
     "iopub.execute_input": "2024-03-24T12:35:54.661319Z",
     "iopub.status.busy": "2024-03-24T12:35:54.660855Z",
     "iopub.status.idle": "2024-03-24T12:35:56.531419Z",
     "shell.execute_reply": "2024-03-24T12:35:56.530511Z"
    },
    "papermill": {
     "duration": 1.882168,
     "end_time": "2024-03-24T12:35:56.533702",
     "exception": false,
     "start_time": "2024-03-24T12:35:54.651534",
     "status": "completed"
    },
    "tags": []
   },
   "outputs": [],
   "source": [
    "import numpy as np\n",
    "import pandas as pd\n",
    "import datetime as dt\n",
    "import matplotlib.pyplot as plt\n",
    "import seaborn as sns\n",
    "import statsmodels.stats.api as sms\n",
    "from scipy.stats import ttest_1samp, shapiro, levene, ttest_ind, mannwhitneyu, \\\n",
    "    pearsonr, spearmanr, kendalltau, f_oneway, kruskal\n",
    "from statsmodels.stats.proportion import proportions_ztest\n",
    "import warnings\n",
    "from sklearn.exceptions import ConvergenceWarning\n",
    "\n",
    "warnings.filterwarnings(\"ignore\")\n",
    "warnings.filterwarnings(\"ignore\", category=ConvergenceWarning)\n",
    "warnings.filterwarnings(\"ignore\", category=UserWarning)\n",
    "\n",
    "pd.set_option('display.max_columns', None)\n",
    "pd.set_option('display.max_rows', None)\n",
    "pd.set_option('display.float_format', lambda x: '%.4f' % x)"
   ]
  },
  {
   "cell_type": "code",
   "execution_count": 9,
   "id": "3710e03d",
   "metadata": {
    "execution": {
     "iopub.execute_input": "2024-03-24T12:35:56.5523Z",
     "iopub.status.busy": "2024-03-24T12:35:56.551899Z",
     "iopub.status.idle": "2024-03-24T12:35:56.655028Z",
     "shell.execute_reply": "2024-03-24T12:35:56.653844Z"
    },
    "papermill": {
     "duration": 0.115212,
     "end_time": "2024-03-24T12:35:56.657443",
     "exception": false,
     "start_time": "2024-03-24T12:35:56.542231",
     "status": "completed"
    },
    "tags": []
   },
   "outputs": [
    {
     "data": {
      "text/html": [
       "<div>\n",
       "<style scoped>\n",
       "    .dataframe tbody tr th:only-of-type {\n",
       "        vertical-align: middle;\n",
       "    }\n",
       "\n",
       "    .dataframe tbody tr th {\n",
       "        vertical-align: top;\n",
       "    }\n",
       "\n",
       "    .dataframe thead th {\n",
       "        text-align: right;\n",
       "    }\n",
       "</style>\n",
       "<table border=\"1\" class=\"dataframe\">\n",
       "  <thead>\n",
       "    <tr style=\"text-align: right;\">\n",
       "      <th></th>\n",
       "      <th>userid</th>\n",
       "      <th>version</th>\n",
       "      <th>sum_gamerounds</th>\n",
       "      <th>retention_1</th>\n",
       "      <th>retention_7</th>\n",
       "    </tr>\n",
       "  </thead>\n",
       "  <tbody>\n",
       "    <tr>\n",
       "      <th>0</th>\n",
       "      <td>116</td>\n",
       "      <td>gate_30</td>\n",
       "      <td>3</td>\n",
       "      <td>False</td>\n",
       "      <td>False</td>\n",
       "    </tr>\n",
       "    <tr>\n",
       "      <th>1</th>\n",
       "      <td>337</td>\n",
       "      <td>gate_30</td>\n",
       "      <td>38</td>\n",
       "      <td>True</td>\n",
       "      <td>False</td>\n",
       "    </tr>\n",
       "    <tr>\n",
       "      <th>2</th>\n",
       "      <td>377</td>\n",
       "      <td>gate_40</td>\n",
       "      <td>165</td>\n",
       "      <td>True</td>\n",
       "      <td>False</td>\n",
       "    </tr>\n",
       "    <tr>\n",
       "      <th>3</th>\n",
       "      <td>483</td>\n",
       "      <td>gate_40</td>\n",
       "      <td>1</td>\n",
       "      <td>False</td>\n",
       "      <td>False</td>\n",
       "    </tr>\n",
       "    <tr>\n",
       "      <th>4</th>\n",
       "      <td>488</td>\n",
       "      <td>gate_40</td>\n",
       "      <td>179</td>\n",
       "      <td>True</td>\n",
       "      <td>True</td>\n",
       "    </tr>\n",
       "  </tbody>\n",
       "</table>\n",
       "</div>"
      ],
      "text/plain": [
       "   userid  version  sum_gamerounds  retention_1  retention_7\n",
       "0     116  gate_30               3        False        False\n",
       "1     337  gate_30              38         True        False\n",
       "2     377  gate_40             165         True        False\n",
       "3     483  gate_40               1        False        False\n",
       "4     488  gate_40             179         True         True"
      ]
     },
     "execution_count": 9,
     "metadata": {},
     "output_type": "execute_result"
    }
   ],
   "source": [
    "df=pd.read_csv(r\"C:\\Users\\Ahmet\\Desktop\\cookie_cats.csv\")\n",
    "df.head()"
   ]
  },
  {
   "cell_type": "code",
   "execution_count": 10,
   "id": "1522fab5",
   "metadata": {
    "execution": {
     "iopub.execute_input": "2024-03-24T12:35:56.67596Z",
     "iopub.status.busy": "2024-03-24T12:35:56.675566Z",
     "iopub.status.idle": "2024-03-24T12:35:56.717664Z",
     "shell.execute_reply": "2024-03-24T12:35:56.716297Z"
    },
    "papermill": {
     "duration": 0.054242,
     "end_time": "2024-03-24T12:35:56.720136",
     "exception": false,
     "start_time": "2024-03-24T12:35:56.665894",
     "status": "completed"
    },
    "tags": []
   },
   "outputs": [
    {
     "name": "stdout",
     "output_type": "stream",
     "text": [
      "##################### Shape #####################\n",
      "(90189, 5)\n",
      "##################### Types #####################\n",
      "userid             int64\n",
      "version           object\n",
      "sum_gamerounds     int64\n",
      "retention_1         bool\n",
      "retention_7         bool\n",
      "dtype: object\n",
      "##################### NA #####################\n",
      "userid            0\n",
      "version           0\n",
      "sum_gamerounds    0\n",
      "retention_1       0\n",
      "retention_7       0\n",
      "dtype: int64\n",
      "##################### info #####################\n",
      "<class 'pandas.core.frame.DataFrame'>\n",
      "RangeIndex: 90189 entries, 0 to 90188\n",
      "Data columns (total 5 columns):\n",
      " #   Column          Non-Null Count  Dtype \n",
      "---  ------          --------------  ----- \n",
      " 0   userid          90189 non-null  int64 \n",
      " 1   version         90189 non-null  object\n",
      " 2   sum_gamerounds  90189 non-null  int64 \n",
      " 3   retention_1     90189 non-null  bool  \n",
      " 4   retention_7     90189 non-null  bool  \n",
      "dtypes: bool(2), int64(2), object(1)\n",
      "memory usage: 2.2+ MB\n",
      "None\n"
     ]
    }
   ],
   "source": [
    "def check_df(dataframe, head=5):\n",
    "    print(\"##################### Shape #####################\")\n",
    "    print(dataframe.shape)\n",
    "    print(\"##################### Types #####################\")\n",
    "    print(dataframe.dtypes)\n",
    "    print(\"##################### NA #####################\")\n",
    "    print(dataframe.isnull().sum())\n",
    "    print(\"##################### info #####################\")\n",
    "    print(dataframe.info())\n",
    "\n",
    "check_df(df)"
   ]
  },
  {
   "cell_type": "code",
   "execution_count": 11,
   "id": "b8b6dce6",
   "metadata": {
    "execution": {
     "iopub.execute_input": "2024-03-24T12:35:56.738856Z",
     "iopub.status.busy": "2024-03-24T12:35:56.73847Z",
     "iopub.status.idle": "2024-03-24T12:35:56.749899Z",
     "shell.execute_reply": "2024-03-24T12:35:56.74891Z"
    },
    "papermill": {
     "duration": 0.023324,
     "end_time": "2024-03-24T12:35:56.752002",
     "exception": false,
     "start_time": "2024-03-24T12:35:56.728678",
     "status": "completed"
    },
    "tags": []
   },
   "outputs": [
    {
     "data": {
      "text/plain": [
       "90189"
      ]
     },
     "execution_count": 11,
     "metadata": {},
     "output_type": "execute_result"
    }
   ],
   "source": [
    "df[\"userid\"].nunique() # There is no multiplexing of players."
   ]
  },
  {
   "cell_type": "code",
   "execution_count": 12,
   "id": "d4c14682",
   "metadata": {
    "execution": {
     "iopub.execute_input": "2024-03-24T12:35:56.773462Z",
     "iopub.status.busy": "2024-03-24T12:35:56.772424Z",
     "iopub.status.idle": "2024-03-24T12:35:56.805601Z",
     "shell.execute_reply": "2024-03-24T12:35:56.804332Z"
    },
    "papermill": {
     "duration": 0.045634,
     "end_time": "2024-03-24T12:35:56.808247",
     "exception": false,
     "start_time": "2024-03-24T12:35:56.762613",
     "status": "completed"
    },
    "tags": []
   },
   "outputs": [
    {
     "data": {
      "text/html": [
       "<div>\n",
       "<style scoped>\n",
       "    .dataframe tbody tr th:only-of-type {\n",
       "        vertical-align: middle;\n",
       "    }\n",
       "\n",
       "    .dataframe tbody tr th {\n",
       "        vertical-align: top;\n",
       "    }\n",
       "\n",
       "    .dataframe thead tr th {\n",
       "        text-align: left;\n",
       "    }\n",
       "\n",
       "    .dataframe thead tr:last-of-type th {\n",
       "        text-align: right;\n",
       "    }\n",
       "</style>\n",
       "<table border=\"1\" class=\"dataframe\">\n",
       "  <thead>\n",
       "    <tr>\n",
       "      <th></th>\n",
       "      <th colspan=\"5\" halign=\"left\">sum_gamerounds</th>\n",
       "    </tr>\n",
       "    <tr>\n",
       "      <th></th>\n",
       "      <th>count</th>\n",
       "      <th>sum</th>\n",
       "      <th>mean</th>\n",
       "      <th>min</th>\n",
       "      <th>max</th>\n",
       "    </tr>\n",
       "    <tr>\n",
       "      <th>version</th>\n",
       "      <th></th>\n",
       "      <th></th>\n",
       "      <th></th>\n",
       "      <th></th>\n",
       "      <th></th>\n",
       "    </tr>\n",
       "  </thead>\n",
       "  <tbody>\n",
       "    <tr>\n",
       "      <th>gate_30</th>\n",
       "      <td>44700</td>\n",
       "      <td>2344795</td>\n",
       "      <td>52.4563</td>\n",
       "      <td>0</td>\n",
       "      <td>49854</td>\n",
       "    </tr>\n",
       "    <tr>\n",
       "      <th>gate_40</th>\n",
       "      <td>45489</td>\n",
       "      <td>2333530</td>\n",
       "      <td>51.2988</td>\n",
       "      <td>0</td>\n",
       "      <td>2640</td>\n",
       "    </tr>\n",
       "  </tbody>\n",
       "</table>\n",
       "</div>"
      ],
      "text/plain": [
       "        sum_gamerounds                            \n",
       "                 count      sum    mean min    max\n",
       "version                                           \n",
       "gate_30          44700  2344795 52.4563   0  49854\n",
       "gate_40          45489  2333530 51.2988   0   2640"
      ]
     },
     "execution_count": 12,
     "metadata": {},
     "output_type": "execute_result"
    }
   ],
   "source": [
    "df.groupby(\"version\").agg({\"sum_gamerounds\":[\"count\",\"sum\",\"mean\",\"min\",\"max\"]})"
   ]
  },
  {
   "cell_type": "markdown",
   "id": "b51e96d9",
   "metadata": {
    "papermill": {
     "duration": 0.008377,
     "end_time": "2024-03-24T12:35:56.825521",
     "exception": false,
     "start_time": "2024-03-24T12:35:56.817144",
     "status": "completed"
    },
    "tags": []
   },
   "source": [
    "it seems gate_30 and gate_40 has the similar values but lets continue to understand the data"
   ]
  },
  {
   "cell_type": "code",
   "execution_count": 13,
   "id": "57c5dd53",
   "metadata": {
    "execution": {
     "iopub.execute_input": "2024-03-24T12:35:56.845636Z",
     "iopub.status.busy": "2024-03-24T12:35:56.845248Z",
     "iopub.status.idle": "2024-03-24T12:35:56.881083Z",
     "shell.execute_reply": "2024-03-24T12:35:56.879818Z"
    },
    "papermill": {
     "duration": 0.049071,
     "end_time": "2024-03-24T12:35:56.883621",
     "exception": false,
     "start_time": "2024-03-24T12:35:56.83455",
     "status": "completed"
    },
    "tags": []
   },
   "outputs": [
    {
     "data": {
      "text/html": [
       "<div>\n",
       "<style scoped>\n",
       "    .dataframe tbody tr th:only-of-type {\n",
       "        vertical-align: middle;\n",
       "    }\n",
       "\n",
       "    .dataframe tbody tr th {\n",
       "        vertical-align: top;\n",
       "    }\n",
       "\n",
       "    .dataframe thead tr th {\n",
       "        text-align: left;\n",
       "    }\n",
       "\n",
       "    .dataframe thead tr:last-of-type th {\n",
       "        text-align: right;\n",
       "    }\n",
       "</style>\n",
       "<table border=\"1\" class=\"dataframe\">\n",
       "  <thead>\n",
       "    <tr>\n",
       "      <th></th>\n",
       "      <th>version</th>\n",
       "      <th colspan=\"2\" halign=\"left\">retention_1</th>\n",
       "      <th colspan=\"2\" halign=\"left\">retention_7</th>\n",
       "    </tr>\n",
       "    <tr>\n",
       "      <th></th>\n",
       "      <th>count</th>\n",
       "      <th>sum</th>\n",
       "      <th>mean</th>\n",
       "      <th>sum</th>\n",
       "      <th>mean</th>\n",
       "    </tr>\n",
       "    <tr>\n",
       "      <th>version</th>\n",
       "      <th></th>\n",
       "      <th></th>\n",
       "      <th></th>\n",
       "      <th></th>\n",
       "      <th></th>\n",
       "    </tr>\n",
       "  </thead>\n",
       "  <tbody>\n",
       "    <tr>\n",
       "      <th>gate_30</th>\n",
       "      <td>44700</td>\n",
       "      <td>20034</td>\n",
       "      <td>0.4482</td>\n",
       "      <td>8502</td>\n",
       "      <td>0.1902</td>\n",
       "    </tr>\n",
       "    <tr>\n",
       "      <th>gate_40</th>\n",
       "      <td>45489</td>\n",
       "      <td>20119</td>\n",
       "      <td>0.4423</td>\n",
       "      <td>8279</td>\n",
       "      <td>0.1820</td>\n",
       "    </tr>\n",
       "  </tbody>\n",
       "</table>\n",
       "</div>"
      ],
      "text/plain": [
       "        version retention_1        retention_7       \n",
       "          count         sum   mean         sum   mean\n",
       "version                                              \n",
       "gate_30   44700       20034 0.4482        8502 0.1902\n",
       "gate_40   45489       20119 0.4423        8279 0.1820"
      ]
     },
     "execution_count": 13,
     "metadata": {},
     "output_type": "execute_result"
    }
   ],
   "source": [
    "df.groupby(\"version\").agg({\"version\":\"count\",\n",
    "                           \"retention_1\":[\"sum\",\"mean\"],\n",
    "                           \"retention_7\":[\"sum\",\"mean\"]})\n",
    "\n",
    "# When we examine the average and total values of people who played after 1 day and within 7 days, we still see similar rates."
   ]
  },
  {
   "cell_type": "code",
   "execution_count": 14,
   "id": "c3cbd2f6",
   "metadata": {
    "execution": {
     "iopub.execute_input": "2024-03-24T12:35:56.903693Z",
     "iopub.status.busy": "2024-03-24T12:35:56.902711Z",
     "iopub.status.idle": "2024-03-24T12:35:56.932518Z",
     "shell.execute_reply": "2024-03-24T12:35:56.931246Z"
    },
    "papermill": {
     "duration": 0.042191,
     "end_time": "2024-03-24T12:35:56.934963",
     "exception": false,
     "start_time": "2024-03-24T12:35:56.892772",
     "status": "completed"
    },
    "tags": []
   },
   "outputs": [
    {
     "data": {
      "text/html": [
       "<div>\n",
       "<style scoped>\n",
       "    .dataframe tbody tr th:only-of-type {\n",
       "        vertical-align: middle;\n",
       "    }\n",
       "\n",
       "    .dataframe tbody tr th {\n",
       "        vertical-align: top;\n",
       "    }\n",
       "\n",
       "    .dataframe thead tr th {\n",
       "        text-align: left;\n",
       "    }\n",
       "\n",
       "    .dataframe thead tr:last-of-type th {\n",
       "        text-align: right;\n",
       "    }\n",
       "</style>\n",
       "<table border=\"1\" class=\"dataframe\">\n",
       "  <thead>\n",
       "    <tr>\n",
       "      <th></th>\n",
       "      <th></th>\n",
       "      <th></th>\n",
       "      <th colspan=\"2\" halign=\"left\">sum_gamerounds</th>\n",
       "    </tr>\n",
       "    <tr>\n",
       "      <th></th>\n",
       "      <th></th>\n",
       "      <th></th>\n",
       "      <th>sum</th>\n",
       "      <th>mean</th>\n",
       "    </tr>\n",
       "    <tr>\n",
       "      <th>version</th>\n",
       "      <th>retention_1</th>\n",
       "      <th>retention_7</th>\n",
       "      <th></th>\n",
       "      <th></th>\n",
       "    </tr>\n",
       "  </thead>\n",
       "  <tbody>\n",
       "    <tr>\n",
       "      <th rowspan=\"4\" valign=\"top\">gate_30</th>\n",
       "      <th rowspan=\"2\" valign=\"top\">False</th>\n",
       "      <th>False</th>\n",
       "      <td>269963</td>\n",
       "      <td>11.8197</td>\n",
       "    </tr>\n",
       "    <tr>\n",
       "      <th>True</th>\n",
       "      <td>183388</td>\n",
       "      <td>100.4315</td>\n",
       "    </tr>\n",
       "    <tr>\n",
       "      <th rowspan=\"2\" valign=\"top\">True</th>\n",
       "      <th>False</th>\n",
       "      <td>663819</td>\n",
       "      <td>49.6945</td>\n",
       "    </tr>\n",
       "    <tr>\n",
       "      <th>True</th>\n",
       "      <td>1227625</td>\n",
       "      <td>183.8863</td>\n",
       "    </tr>\n",
       "    <tr>\n",
       "      <th rowspan=\"4\" valign=\"top\">gate_40</th>\n",
       "      <th rowspan=\"2\" valign=\"top\">False</th>\n",
       "      <th>False</th>\n",
       "      <td>281118</td>\n",
       "      <td>11.9133</td>\n",
       "    </tr>\n",
       "    <tr>\n",
       "      <th>True</th>\n",
       "      <td>133438</td>\n",
       "      <td>75.2611</td>\n",
       "    </tr>\n",
       "    <tr>\n",
       "      <th rowspan=\"2\" valign=\"top\">True</th>\n",
       "      <th>False</th>\n",
       "      <td>680997</td>\n",
       "      <td>50.0255</td>\n",
       "    </tr>\n",
       "    <tr>\n",
       "      <th>True</th>\n",
       "      <td>1237977</td>\n",
       "      <td>190.2824</td>\n",
       "    </tr>\n",
       "  </tbody>\n",
       "</table>\n",
       "</div>"
      ],
      "text/plain": [
       "                                sum_gamerounds         \n",
       "                                           sum     mean\n",
       "version retention_1 retention_7                        \n",
       "gate_30 False       False               269963  11.8197\n",
       "                    True                183388 100.4315\n",
       "        True        False               663819  49.6945\n",
       "                    True               1227625 183.8863\n",
       "gate_40 False       False               281118  11.9133\n",
       "                    True                133438  75.2611\n",
       "        True        False               680997  50.0255\n",
       "                    True               1237977 190.2824"
      ]
     },
     "execution_count": 14,
     "metadata": {},
     "output_type": "execute_result"
    }
   ],
   "source": [
    "df.groupby([\"version\",\"retention_1\",\"retention_7\"]).agg({\"sum_gamerounds\":[\"sum\",\"mean\"]})"
   ]
  },
  {
   "cell_type": "markdown",
   "id": "0cc006d6",
   "metadata": {
    "papermill": {
     "duration": 0.008796,
     "end_time": "2024-03-24T12:35:56.953443",
     "exception": false,
     "start_time": "2024-03-24T12:35:56.944647",
     "status": "completed"
    },
    "tags": []
   },
   "source": [
    "Looking at the output above, we understand that some customers only played on the first day.We see that the average and total number of plays are high even though retirion_1 and keep_7 are False. In this case, let's see which vision has more people leaving the game?"
   ]
  },
  {
   "cell_type": "code",
   "execution_count": 15,
   "id": "74f57acd",
   "metadata": {
    "execution": {
     "iopub.execute_input": "2024-03-24T12:35:56.973647Z",
     "iopub.status.busy": "2024-03-24T12:35:56.972877Z",
     "iopub.status.idle": "2024-03-24T12:35:56.986531Z",
     "shell.execute_reply": "2024-03-24T12:35:56.98537Z"
    },
    "papermill": {
     "duration": 0.026273,
     "end_time": "2024-03-24T12:35:56.988817",
     "exception": false,
     "start_time": "2024-03-24T12:35:56.962544",
     "status": "completed"
    },
    "tags": []
   },
   "outputs": [
    {
     "data": {
      "text/plain": [
       "0.5148854073113129"
      ]
     },
     "execution_count": 15,
     "metadata": {},
     "output_type": "execute_result"
    }
   ],
   "source": [
    "left_people=df.loc[(df[\"retention_1\"]==False) & (df[\"retention_7\"]== False)]\n",
    "left_people.shape[0]/df.shape[0]\n",
    "\n",
    "# It shows rate of the people who only played the game on the first day and quit. This means almost half of the player has gone on the first day."
   ]
  },
  {
   "cell_type": "code",
   "execution_count": 16,
   "id": "d395368f",
   "metadata": {
    "execution": {
     "iopub.execute_input": "2024-03-24T12:35:57.009788Z",
     "iopub.status.busy": "2024-03-24T12:35:57.009413Z",
     "iopub.status.idle": "2024-03-24T12:35:57.027939Z",
     "shell.execute_reply": "2024-03-24T12:35:57.02687Z"
    },
    "papermill": {
     "duration": 0.032023,
     "end_time": "2024-03-24T12:35:57.03015",
     "exception": false,
     "start_time": "2024-03-24T12:35:56.998127",
     "status": "completed"
    },
    "tags": []
   },
   "outputs": [
    {
     "data": {
      "text/html": [
       "<div>\n",
       "<style scoped>\n",
       "    .dataframe tbody tr th:only-of-type {\n",
       "        vertical-align: middle;\n",
       "    }\n",
       "\n",
       "    .dataframe tbody tr th {\n",
       "        vertical-align: top;\n",
       "    }\n",
       "\n",
       "    .dataframe thead tr th {\n",
       "        text-align: left;\n",
       "    }\n",
       "\n",
       "    .dataframe thead tr:last-of-type th {\n",
       "        text-align: right;\n",
       "    }\n",
       "</style>\n",
       "<table border=\"1\" class=\"dataframe\">\n",
       "  <thead>\n",
       "    <tr>\n",
       "      <th></th>\n",
       "      <th colspan=\"3\" halign=\"left\">sum_gamerounds</th>\n",
       "    </tr>\n",
       "    <tr>\n",
       "      <th></th>\n",
       "      <th>count</th>\n",
       "      <th>sum</th>\n",
       "      <th>mean</th>\n",
       "    </tr>\n",
       "    <tr>\n",
       "      <th>version</th>\n",
       "      <th></th>\n",
       "      <th></th>\n",
       "      <th></th>\n",
       "    </tr>\n",
       "  </thead>\n",
       "  <tbody>\n",
       "    <tr>\n",
       "      <th>gate_30</th>\n",
       "      <td>22840</td>\n",
       "      <td>269963</td>\n",
       "      <td>11.8197</td>\n",
       "    </tr>\n",
       "    <tr>\n",
       "      <th>gate_40</th>\n",
       "      <td>23597</td>\n",
       "      <td>281118</td>\n",
       "      <td>11.9133</td>\n",
       "    </tr>\n",
       "  </tbody>\n",
       "</table>\n",
       "</div>"
      ],
      "text/plain": [
       "        sum_gamerounds                \n",
       "                 count     sum    mean\n",
       "version                               \n",
       "gate_30          22840  269963 11.8197\n",
       "gate_40          23597  281118 11.9133"
      ]
     },
     "execution_count": 16,
     "metadata": {},
     "output_type": "execute_result"
    }
   ],
   "source": [
    "left_people.groupby(\"version\").agg({\"sum_gamerounds\":[\"count\",\"sum\",\"mean\"]})"
   ]
  },
  {
   "cell_type": "code",
   "execution_count": 17,
   "id": "366f2e0d",
   "metadata": {
    "execution": {
     "iopub.execute_input": "2024-03-24T12:35:57.051203Z",
     "iopub.status.busy": "2024-03-24T12:35:57.050366Z",
     "iopub.status.idle": "2024-03-24T12:35:57.070421Z",
     "shell.execute_reply": "2024-03-24T12:35:57.069506Z"
    },
    "papermill": {
     "duration": 0.032892,
     "end_time": "2024-03-24T12:35:57.072591",
     "exception": false,
     "start_time": "2024-03-24T12:35:57.039699",
     "status": "completed"
    },
    "tags": []
   },
   "outputs": [
    {
     "data": {
      "text/html": [
       "<div>\n",
       "<style scoped>\n",
       "    .dataframe tbody tr th:only-of-type {\n",
       "        vertical-align: middle;\n",
       "    }\n",
       "\n",
       "    .dataframe tbody tr th {\n",
       "        vertical-align: top;\n",
       "    }\n",
       "\n",
       "    .dataframe thead th {\n",
       "        text-align: right;\n",
       "    }\n",
       "</style>\n",
       "<table border=\"1\" class=\"dataframe\">\n",
       "  <thead>\n",
       "    <tr style=\"text-align: right;\">\n",
       "      <th></th>\n",
       "      <th>gate_30_ratio</th>\n",
       "      <th>gate_40_ratio</th>\n",
       "    </tr>\n",
       "  </thead>\n",
       "  <tbody>\n",
       "    <tr>\n",
       "      <th>0</th>\n",
       "      <td>0.4918</td>\n",
       "      <td>0.5082</td>\n",
       "    </tr>\n",
       "  </tbody>\n",
       "</table>\n",
       "</div>"
      ],
      "text/plain": [
       "   gate_30_ratio  gate_40_ratio\n",
       "0         0.4918         0.5082"
      ]
     },
     "execution_count": 17,
     "metadata": {},
     "output_type": "execute_result"
    }
   ],
   "source": [
    "result_df = pd.DataFrame({\n",
    "    \"gate_30_ratio\": [(left_people[\"version\"]==\"gate_30\").sum()/len(left_people)],\n",
    "    \"gate_40_ratio\": [(left_people[\"version\"]==\"gate_40\").sum()/len(left_people)]\n",
    "})\n",
    "result_df"
   ]
  },
  {
   "cell_type": "code",
   "execution_count": 18,
   "id": "83c64425",
   "metadata": {
    "execution": {
     "iopub.execute_input": "2024-03-24T12:35:57.094655Z",
     "iopub.status.busy": "2024-03-24T12:35:57.09392Z",
     "iopub.status.idle": "2024-03-24T12:35:57.1121Z",
     "shell.execute_reply": "2024-03-24T12:35:57.110971Z"
    },
    "papermill": {
     "duration": 0.031699,
     "end_time": "2024-03-24T12:35:57.114393",
     "exception": false,
     "start_time": "2024-03-24T12:35:57.082694",
     "status": "completed"
    },
    "tags": []
   },
   "outputs": [
    {
     "data": {
      "text/html": [
       "<div>\n",
       "<style scoped>\n",
       "    .dataframe tbody tr th:only-of-type {\n",
       "        vertical-align: middle;\n",
       "    }\n",
       "\n",
       "    .dataframe tbody tr th {\n",
       "        vertical-align: top;\n",
       "    }\n",
       "\n",
       "    .dataframe thead th {\n",
       "        text-align: right;\n",
       "    }\n",
       "</style>\n",
       "<table border=\"1\" class=\"dataframe\">\n",
       "  <thead>\n",
       "    <tr style=\"text-align: right;\">\n",
       "      <th></th>\n",
       "      <th>retention_1</th>\n",
       "      <th>retention_1_ratio</th>\n",
       "      <th>retention_7</th>\n",
       "      <th>retention_7_ratio</th>\n",
       "    </tr>\n",
       "  </thead>\n",
       "  <tbody>\n",
       "    <tr>\n",
       "      <th>False</th>\n",
       "      <td>50036</td>\n",
       "      <td>0.5548</td>\n",
       "      <td>73408</td>\n",
       "      <td>0.8139</td>\n",
       "    </tr>\n",
       "    <tr>\n",
       "      <th>True</th>\n",
       "      <td>40153</td>\n",
       "      <td>0.4452</td>\n",
       "      <td>16781</td>\n",
       "      <td>0.1861</td>\n",
       "    </tr>\n",
       "  </tbody>\n",
       "</table>\n",
       "</div>"
      ],
      "text/plain": [
       "       retention_1  retention_1_ratio  retention_7  retention_7_ratio\n",
       "False        50036             0.5548        73408             0.8139\n",
       "True         40153             0.4452        16781             0.1861"
      ]
     },
     "execution_count": 18,
     "metadata": {},
     "output_type": "execute_result"
    }
   ],
   "source": [
    "# lets look at which retention has highest raito  \n",
    "new=pd.DataFrame({\"retention_1\": df[\"retention_1\"].value_counts(),\n",
    "                 \"retention_1_ratio\":df[\"retention_1\"].value_counts() /len(df),\n",
    "                 \"retention_7\": df[\"retention_7\"].value_counts(),\n",
    "                 \"retention_7_ratio\": df[\"retention_7\"].value_counts()/ len(df)})\n",
    "new \n",
    "# The rate of not entering the game in 7 days is higher than in 1 day"
   ]
  },
  {
   "cell_type": "markdown",
   "id": "8c8c5532",
   "metadata": {
    "papermill": {
     "duration": 0.010073,
     "end_time": "2024-03-24T12:35:57.134438",
     "exception": false,
     "start_time": "2024-03-24T12:35:57.124365",
     "status": "completed"
    },
    "tags": []
   },
   "source": [
    "## Outlier"
   ]
  },
  {
   "cell_type": "code",
   "execution_count": 19,
   "id": "560ac3cf",
   "metadata": {
    "execution": {
     "iopub.execute_input": "2024-03-24T12:35:57.156105Z",
     "iopub.status.busy": "2024-03-24T12:35:57.15516Z",
     "iopub.status.idle": "2024-03-24T12:35:57.174144Z",
     "shell.execute_reply": "2024-03-24T12:35:57.17296Z"
    },
    "papermill": {
     "duration": 0.032182,
     "end_time": "2024-03-24T12:35:57.176487",
     "exception": false,
     "start_time": "2024-03-24T12:35:57.144305",
     "status": "completed"
    },
    "tags": []
   },
   "outputs": [
    {
     "data": {
      "text/plain": [
       "count   90189.0000\n",
       "mean       51.8725\n",
       "std       195.0509\n",
       "min         0.0000\n",
       "5%          1.0000\n",
       "10%         1.0000\n",
       "20%         3.0000\n",
       "30%         6.0000\n",
       "40%        11.0000\n",
       "50%        16.0000\n",
       "60%        25.0000\n",
       "70%        40.0000\n",
       "80%        67.0000\n",
       "90%       134.0000\n",
       "95%       221.0000\n",
       "99%       493.0000\n",
       "max     49854.0000\n",
       "Name: sum_gamerounds, dtype: float64"
      ]
     },
     "execution_count": 19,
     "metadata": {},
     "output_type": "execute_result"
    }
   ],
   "source": [
    "quantiles = [0.05, 0.10, 0.20, 0.30, 0.40, 0.50, 0.60, 0.70, 0.80, 0.90, 0.95, 0.99]\n",
    "df[\"sum_gamerounds\"].describe(quantiles).T\n",
    "# as we can see here there is a outleir in the sum_gamerounds"
   ]
  },
  {
   "cell_type": "code",
   "execution_count": 20,
   "id": "ba6e60df",
   "metadata": {
    "execution": {
     "iopub.execute_input": "2024-03-24T12:35:57.19825Z",
     "iopub.status.busy": "2024-03-24T12:35:57.197592Z",
     "iopub.status.idle": "2024-03-24T12:35:57.445004Z",
     "shell.execute_reply": "2024-03-24T12:35:57.443868Z"
    },
    "papermill": {
     "duration": 0.260809,
     "end_time": "2024-03-24T12:35:57.447259",
     "exception": false,
     "start_time": "2024-03-24T12:35:57.18645",
     "status": "completed"
    },
    "tags": []
   },
   "outputs": [
    {
     "data": {
      "image/png": "[encoded data removed]",
      "text/plain": [
       "<Figure size 640x480 with 1 Axes>"
      ]
     },
     "metadata": {},
     "output_type": "display_data"
    }
   ],
   "source": [
    "sns.boxplot(x = df.version, y = df.sum_gamerounds)\n",
    "plt.show()"
   ]
  },
  {
   "cell_type": "code",
   "execution_count": 21,
   "id": "5ee29316",
   "metadata": {
    "execution": {
     "iopub.execute_input": "2024-03-24T12:35:57.470018Z",
     "iopub.status.busy": "2024-03-24T12:35:57.469368Z",
     "iopub.status.idle": "2024-03-24T12:35:57.482211Z",
     "shell.execute_reply": "2024-03-24T12:35:57.481032Z"
    },
    "papermill": {
     "duration": 0.027086,
     "end_time": "2024-03-24T12:35:57.484676",
     "exception": false,
     "start_time": "2024-03-24T12:35:57.45759",
     "status": "completed"
    },
    "tags": []
   },
   "outputs": [
    {
     "data": {
      "text/plain": [
       "(-739.5, 1232.5)"
      ]
     },
     "execution_count": 21,
     "metadata": {},
     "output_type": "execute_result"
    }
   ],
   "source": [
    "# let determine the low_limit and up_limit\n",
    "def outlier_thresholds(dataframe, variable):\n",
    "    quartile1 = dataframe[variable].quantile(0.01)\n",
    "    quartile3 = dataframe[variable].quantile(0.99)\n",
    "    interquantile_range = quartile3 - quartile1\n",
    "    up_limit = quartile3 + 1.5 * interquantile_range\n",
    "    low_limit = quartile1 - 1.5 * interquantile_range\n",
    "    return low_limit, up_limit\n",
    "\n",
    "outlier_thresholds(df,\"sum_gamerounds\")"
   ]
  },
  {
   "cell_type": "code",
   "execution_count": 22,
   "id": "ea39f4b7",
   "metadata": {
    "execution": {
     "iopub.execute_input": "2024-03-24T12:35:57.508301Z",
     "iopub.status.busy": "2024-03-24T12:35:57.507327Z",
     "iopub.status.idle": "2024-03-24T12:35:57.520509Z",
     "shell.execute_reply": "2024-03-24T12:35:57.519403Z"
    },
    "papermill": {
     "duration": 0.027673,
     "end_time": "2024-03-24T12:35:57.523102",
     "exception": false,
     "start_time": "2024-03-24T12:35:57.495429",
     "status": "completed"
    },
    "tags": []
   },
   "outputs": [],
   "source": [
    "# Let's use the suppression method for outliers\n",
    "def replace_with_thresholds(dataframe, variable):\n",
    "    low_limit, up_limit = outlier_thresholds(dataframe, variable)\n",
    "    dataframe.loc[(dataframe[variable] < low_limit), variable] = low_limit\n",
    "    dataframe.loc[(dataframe[variable] > up_limit), variable] = up_limit\n",
    "\n",
    "replace_with_thresholds(df,\"sum_gamerounds\")"
   ]
  },
  {
   "cell_type": "code",
   "execution_count": 23,
   "id": "bee2b9fd",
   "metadata": {
    "execution": {
     "iopub.execute_input": "2024-03-24T12:35:57.545642Z",
     "iopub.status.busy": "2024-03-24T12:35:57.54529Z",
     "iopub.status.idle": "2024-03-24T12:35:57.760789Z",
     "shell.execute_reply": "2024-03-24T12:35:57.759939Z"
    },
    "papermill": {
     "duration": 0.229093,
     "end_time": "2024-03-24T12:35:57.76284",
     "exception": false,
     "start_time": "2024-03-24T12:35:57.533747",
     "status": "completed"
    },
    "tags": []
   },
   "outputs": [
    {
     "data": {
      "image/png": "[encoded data removed]",
      "text/plain": [
       "<Figure size 640x480 with 1 Axes>"
      ]
     },
     "metadata": {},
     "output_type": "display_data"
    }
   ],
   "source": [
    "sns.boxplot(x = df.version, y = df.sum_gamerounds)\n",
    "plt.show()"
   ]
  },
  {
   "cell_type": "code",
   "execution_count": 24,
   "id": "1aa8e55f",
   "metadata": {
    "execution": {
     "iopub.execute_input": "2024-03-24T12:35:57.786586Z",
     "iopub.status.busy": "2024-03-24T12:35:57.785706Z",
     "iopub.status.idle": "2024-03-24T12:35:57.803911Z",
     "shell.execute_reply": "2024-03-24T12:35:57.803109Z"
    },
    "papermill": {
     "duration": 0.032332,
     "end_time": "2024-03-24T12:35:57.806136",
     "exception": false,
     "start_time": "2024-03-24T12:35:57.773804",
     "status": "completed"
    },
    "tags": []
   },
   "outputs": [
    {
     "data": {
      "text/html": [
       "<div>\n",
       "<style scoped>\n",
       "    .dataframe tbody tr th:only-of-type {\n",
       "        vertical-align: middle;\n",
       "    }\n",
       "\n",
       "    .dataframe tbody tr th {\n",
       "        vertical-align: top;\n",
       "    }\n",
       "\n",
       "    .dataframe thead th {\n",
       "        text-align: right;\n",
       "    }\n",
       "</style>\n",
       "<table border=\"1\" class=\"dataframe\">\n",
       "  <thead>\n",
       "    <tr style=\"text-align: right;\">\n",
       "      <th></th>\n",
       "      <th>sum_gamerounds</th>\n",
       "    </tr>\n",
       "    <tr>\n",
       "      <th>version</th>\n",
       "      <th></th>\n",
       "    </tr>\n",
       "  </thead>\n",
       "  <tbody>\n",
       "    <tr>\n",
       "      <th>gate_30</th>\n",
       "      <td>51.1534</td>\n",
       "    </tr>\n",
       "    <tr>\n",
       "      <th>gate_40</th>\n",
       "      <td>51.0658</td>\n",
       "    </tr>\n",
       "  </tbody>\n",
       "</table>\n",
       "</div>"
      ],
      "text/plain": [
       "         sum_gamerounds\n",
       "version                \n",
       "gate_30         51.1534\n",
       "gate_40         51.0658"
      ]
     },
     "execution_count": 24,
     "metadata": {},
     "output_type": "execute_result"
    }
   ],
   "source": [
    "df.groupby(\"version\").agg({\"sum_gamerounds\":\"mean\"})\n",
    "# it seems similar but let's implement the A-B testing"
   ]
  },
  {
   "cell_type": "markdown",
   "id": "2d131fef",
   "metadata": {
    "papermill": {
     "duration": 0.011721,
     "end_time": "2024-03-24T12:35:57.829025",
     "exception": false,
     "start_time": "2024-03-24T12:35:57.817304",
     "status": "completed"
    },
    "tags": []
   },
   "source": [
    "# A/B Testing"
   ]
  },
  {
   "cell_type": "markdown",
   "id": "baa76acf",
   "metadata": {
    "papermill": {
     "duration": 0.011151,
     "end_time": "2024-03-24T12:35:57.851556",
     "exception": false,
     "start_time": "2024-03-24T12:35:57.840405",
     "status": "completed"
    },
    "tags": []
   },
   "source": [
    "### Steps \n",
    "\n",
    "* first we will establish the hypothesis\n",
    "* H0: M1 = M2 (no difference)\n",
    "* H1: M1 != M2\n",
    "* Then we will move on to the assumption checking phase.\n",
    "* If normality assumption + variance assumption is met, we can test with paramedric t test\n",
    "* If normality is achieved but variance is not achieved, we can retest with the t test, but we are gonna change equal_var to False \n",
    "* If the normality assumption is not met, we will directly apply the MannWhitneyu test (non-parametric test)."
   ]
  },
  {
   "cell_type": "code",
   "execution_count": 19,
   "id": "fa55e449",
   "metadata": {
    "execution": {
     "iopub.execute_input": "2024-03-24T12:35:57.875958Z",
     "iopub.status.busy": "2024-03-24T12:35:57.87528Z",
     "iopub.status.idle": "2024-03-24T12:35:57.878984Z",
     "shell.execute_reply": "2024-03-24T12:35:57.878233Z"
    },
    "papermill": {
     "duration": 0.018253,
     "end_time": "2024-03-24T12:35:57.881003",
     "exception": false,
     "start_time": "2024-03-24T12:35:57.86275",
     "status": "completed"
    },
    "tags": []
   },
   "outputs": [],
   "source": [
    "# Let's apply it one by one, then I will add the whole function"
   ]
  },
  {
   "cell_type": "code",
   "execution_count": 20,
   "id": "a446009c",
   "metadata": {
    "execution": {
     "iopub.execute_input": "2024-03-24T12:35:57.905469Z",
     "iopub.status.busy": "2024-03-24T12:35:57.904812Z",
     "iopub.status.idle": "2024-03-24T12:35:57.909181Z",
     "shell.execute_reply": "2024-03-24T12:35:57.908079Z"
    },
    "papermill": {
     "duration": 0.019005,
     "end_time": "2024-03-24T12:35:57.911531",
     "exception": false,
     "start_time": "2024-03-24T12:35:57.892526",
     "status": "completed"
    },
    "tags": []
   },
   "outputs": [],
   "source": [
    "# 1. Establish Hypothesis:\n",
    "# Is there a statistical difference between gate_30 and gate_40 playing games?\n",
    "# Ho: M1=M2 (no difference between them)\n",
    "# H1= M1!=M2 (there is a difference between them)"
   ]
  },
  {
   "cell_type": "code",
   "execution_count": 21,
   "id": "b398e724",
   "metadata": {
    "execution": {
     "iopub.execute_input": "2024-03-24T12:35:57.936241Z",
     "iopub.status.busy": "2024-03-24T12:35:57.935558Z",
     "iopub.status.idle": "2024-03-24T12:35:57.939805Z",
     "shell.execute_reply": "2024-03-24T12:35:57.938745Z"
    },
    "papermill": {
     "duration": 0.019102,
     "end_time": "2024-03-24T12:35:57.941903",
     "exception": false,
     "start_time": "2024-03-24T12:35:57.922801",
     "status": "completed"
    },
    "tags": []
   },
   "outputs": [],
   "source": [
    "# 1. Normality\n",
    "\n",
    "# H0: Normal distribution assumption is met.\n",
    "# H1:..not provided.\n",
    "\n",
    "# HO RED if p-value < 0.05.\n",
    "# If p-value is not < 0.05 H0 CANNOT BE REJECTED."
   ]
  },
  {
   "cell_type": "code",
   "execution_count": 25,
   "id": "5e8ff3c5",
   "metadata": {
    "execution": {
     "iopub.execute_input": "2024-03-24T12:35:57.96651Z",
     "iopub.status.busy": "2024-03-24T12:35:57.965767Z",
     "iopub.status.idle": "2024-03-24T12:35:57.984967Z",
     "shell.execute_reply": "2024-03-24T12:35:57.983784Z"
    },
    "papermill": {
     "duration": 0.034011,
     "end_time": "2024-03-24T12:35:57.987192",
     "exception": false,
     "start_time": "2024-03-24T12:35:57.953181",
     "status": "completed"
    },
    "tags": []
   },
   "outputs": [
    {
     "name": "stdout",
     "output_type": "stream",
     "text": [
      "Test Stat = 0.5104, p-value = 0.0000\n"
     ]
    }
   ],
   "source": [
    "test_stat, pvalue = shapiro(df.loc[df[\"version\"] == \"gate_30\", \"sum_gamerounds\"])\n",
    "print('Test Stat = %.4f, p-value = %.4f' % (test_stat, pvalue))\n",
    "# p value less than 0.05"
   ]
  },
  {
   "cell_type": "code",
   "execution_count": 26,
   "id": "dd5baa22",
   "metadata": {
    "execution": {
     "iopub.execute_input": "2024-03-24T12:35:58.01166Z",
     "iopub.status.busy": "2024-03-24T12:35:58.01107Z",
     "iopub.status.idle": "2024-03-24T12:35:58.031101Z",
     "shell.execute_reply": "2024-03-24T12:35:58.029566Z"
    },
    "papermill": {
     "duration": 0.034957,
     "end_time": "2024-03-24T12:35:58.033451",
     "exception": false,
     "start_time": "2024-03-24T12:35:57.998494",
     "status": "completed"
    },
    "tags": []
   },
   "outputs": [
    {
     "name": "stdout",
     "output_type": "stream",
     "text": [
      "Test Stat = 0.5044, p-value = 0.0000\n"
     ]
    }
   ],
   "source": [
    "test_stat, pvalue = shapiro(df.loc[df[\"version\"] == \"gate_40\", \"sum_gamerounds\"])\n",
    "print('Test Stat = %.4f, p-value = %.4f' % (test_stat, pvalue))\n",
    "# since p-value is less than 0.05 , we are gonna reject Ho , so  Normal distribution assumption is not provided."
   ]
  },
  {
   "cell_type": "code",
   "execution_count": 27,
   "id": "aca21bfd",
   "metadata": {
    "execution": {
     "iopub.execute_input": "2024-03-24T12:35:58.059117Z",
     "iopub.status.busy": "2024-03-24T12:35:58.058399Z",
     "iopub.status.idle": "2024-03-24T12:35:58.175804Z",
     "shell.execute_reply": "2024-03-24T12:35:58.174859Z"
    },
    "papermill": {
     "duration": 0.13259,
     "end_time": "2024-03-24T12:35:58.177941",
     "exception": false,
     "start_time": "2024-03-24T12:35:58.045351",
     "status": "completed"
    },
    "tags": []
   },
   "outputs": [
    {
     "name": "stdout",
     "output_type": "stream",
     "text": [
      "Test Stat = 1024331275.0000, p-value = 0.0502\n"
     ]
    }
   ],
   "source": [
    "# We can pass directly to mannwhitneyu test (non-parametric test)\n",
    "test_stat, pvalue = mannwhitneyu(df.loc[df[\"version\"] == \"gate_30\", \"sum_gamerounds\"],\n",
    "                                 df.loc[df[\"version\"] == \"gate_40\", \"sum_gamerounds\"])\n",
    "\n",
    "print('Test Stat = %.4f, p-value = %.4f' % (test_stat, pvalue)) "
   ]
  },
  {
   "cell_type": "markdown",
   "id": "605f8c46",
   "metadata": {
    "papermill": {
     "duration": 0.011005,
     "end_time": "2024-03-24T12:35:58.200717",
     "exception": false,
     "start_time": "2024-03-24T12:35:58.189712",
     "status": "completed"
    },
    "tags": []
   },
   "source": [
    "p- value is not less than 0.05 , then H0 can not be rejected this means that there is no statistically significant difference between them"
   ]
  },
  {
   "cell_type": "code",
   "execution_count": 28,
   "id": "083cbae8",
   "metadata": {
    "execution": {
     "iopub.execute_input": "2024-03-24T12:35:58.228058Z",
     "iopub.status.busy": "2024-03-24T12:35:58.227568Z",
     "iopub.status.idle": "2024-03-24T12:35:58.419179Z",
     "shell.execute_reply": "2024-03-24T12:35:58.417854Z"
    },
    "papermill": {
     "duration": 0.209886,
     "end_time": "2024-03-24T12:35:58.422927",
     "exception": false,
     "start_time": "2024-03-24T12:35:58.213041",
     "status": "completed"
    },
    "tags": []
   },
   "outputs": [
    {
     "name": "stdout",
     "output_type": "stream",
     "text": [
      "H0:There is no statistical difference between gate_30 and gate_40.\n",
      "##########################################\n",
      "Normality Assumption\n",
      "H0 is rejected, Normal distribution assumption is not met.\n",
      "\n",
      "##########################################\n",
      " Variance Homogeneity Assumption.\n",
      "\n",
      "0.8301768432506422 Variances Are Homogeneous.\n",
      "\n",
      "##########################################\n",
      "Non-Parametric test should be done.\n",
      "\n",
      "0.05020807227301571\n",
      "################### Result #######################\n",
      "0.05020807227301571 is not less than 0.05 . H0 is Not Rejected, That is, there is no statistically significant difference between them.\n"
     ]
    }
   ],
   "source": [
    "# Whole Function \n",
    "\n",
    "def a_b_test(df, p_value):\n",
    "    \n",
    "    print(\"H0:There is no statistical difference between gate_30 and gate_40.\")\n",
    "    print(\"##########################################\")\n",
    "    print(\"Normality Assumption\")\n",
    "    pvalue_30 = shapiro(df.loc[df[\"version\"] == \"gate_30\", \"sum_gamerounds\"])[1]\n",
    "    pvalue_40= shapiro(df.loc[df[\"version\"] == \"gate_40\", \"sum_gamerounds\"])[1]\n",
    "\n",
    "    if  (pvalue_30 < p_value) and (pvalue_40 < p_value):\n",
    "        print(\"H0 is rejected, Normal distribution assumption is not met.\\n\")\n",
    "    else:\n",
    "        print(\"H0 cannot be rejected, normal distribution assumption is met.\\n\")\n",
    "        \n",
    "    print(\"##########################################\")\n",
    "    print(\" Variance Homogeneity Assumption.\\n\")\n",
    "\n",
    "    pvalue_levene = levene(df.loc[df[\"version\"] == \"gate_30\", \"sum_gamerounds\"],\n",
    "                               df.loc[df[\"version\"] == \"gate_40\", \"sum_gamerounds\"])[1]\n",
    "\n",
    "    if pvalue_levene < pvalue:\n",
    "      print(\"H0 is rejected, the variances are not homogeneous\\n\")\n",
    "\n",
    "    else:\n",
    "       print(pvalue_levene,\"Variances Are Homogeneous.\\n\")\n",
    "    \n",
    "    print(\"##########################################\") \n",
    "    \n",
    "    if ((pvalue_30 > pvalue) & (pvalue_40 > pvalue)) & (pvalue_levene > pvalue):\n",
    "        \n",
    "        pvalue_ttes = ttest_ind(df.loc[df[\"version\"] == \"gate_30\"],\n",
    "                                  df.loc[df[\"version\"] == \"gate_40\"],\n",
    "                                  equal_var=True)[1]\n",
    "        print(pvalue_ttes)\n",
    "    elif ((pvalue_30 > pvalue) & (pvalue_40 > pvalue)) & (pvalue_levene < pvalue):\n",
    "        \n",
    "        pvalue_ttest = ttest_ind(df.loc[df[\"version\"] == \"gate_30\"],\n",
    "                                  df.loc[df[\"version\"] == \"gate_40\"],\n",
    "                                  equal_var=False)[1]\n",
    "        print(pvalue_ttes)\n",
    "    else:\n",
    "        print(\"Non-Parametric test should be done.\\n\")\n",
    "        pvalue_non = mannwhitneyu(df.loc[df[\"version\"] == \"gate_30\", \"sum_gamerounds\"],\n",
    "                              df.loc[df[\"version\"] == \"gate_40\", \"sum_gamerounds\"])[1]\n",
    "        print(pvalue_non)\n",
    "    print(\"################### Result #######################\") \n",
    "    if pvalue_non < pvalue:\n",
    "        print(pvalue_non,\"H0 Hypothesis is Rejected. That is, there is a statistically significant difference between them.\")\n",
    "    else:\n",
    "        print(pvalue_non, \"is not less than 0.05 . H0 is Not Rejected, That is, there is no statistically significant difference between them.\")\n",
    "a_b_test(df, 0.05)"
   ]
  }
 ],
 "metadata": {
  "kaggle": {
   "accelerator": "none",
   "dataSources": [
    {
     "datasetId": 272421,
     "sourceId": 564457,
     "sourceType": "datasetVersion"
    }
   ],
   "dockerImageVersionId": 30646,
   "isGpuEnabled": false,
   "isInternetEnabled": true,
   "language": "python",
   "sourceType": "notebook"
  },
  "kernelspec": {
   "display_name": "Python 3",
   "language": "python",
   "name": "python3"
  },
  "language_info": {
   "codemirror_mode": {
    "name": "ipython",
    "version": 3
   },
   "file_extension": ".py",
   "mimetype": "text/x-python",
   "name": "python",
   "nbconvert_exporter": "python",
   "pygments_lexer": "ipython3",
   "version": "3.9.12"
  },
  "papermill": {
   "default_parameters": {},
   "duration": 8.387722,
   "end_time": "2024-03-24T12:35:59.124944",
   "environment_variables": {},
   "exception": null,
   "input_path": "__notebook__.ipynb",
   "output_path": "__notebook__.ipynb",
   "parameters": {},
   "start_time": "2024-03-24T12:35:50.737222",
   "version": "2.5.0"
  }
 },
 "nbformat": 4,
 "nbformat_minor": 5
}
